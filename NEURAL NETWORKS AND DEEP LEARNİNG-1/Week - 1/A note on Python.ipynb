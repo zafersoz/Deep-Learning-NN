{
  "metadata": {
    "language_info": {
      "codemirror_mode": {
        "name": "python",
        "version": 3
      },
      "file_extension": ".py",
      "mimetype": "text/x-python",
      "name": "python",
      "nbconvert_exporter": "python",
      "pygments_lexer": "ipython3",
      "version": "3.8"
    },
    "kernelspec": {
      "name": "python",
      "display_name": "Python (Pyodide)",
      "language": "python"
    }
  },
  "nbformat_minor": 4,
  "nbformat": 4,
  "cells": [
    {
      "cell_type": "code",
      "source": "import numpy as np\n\na = np.random.randn(5)    ## içinde 5 gauss değişkeni olan bir a dizisi\nprint(a)",
      "metadata": {
        "trusted": true
      },
      "execution_count": 1,
      "outputs": [
        {
          "name": "stdout",
          "text": "[-2.32029188  0.64329439  0.29246949 -1.10727299 -1.28172435]\n",
          "output_type": "stream"
        }
      ]
    },
    {
      "cell_type": "code",
      "source": "print(a.shape)   ## a'nın şekli 5 e tanımlandı",
      "metadata": {
        "trusted": true
      },
      "execution_count": 2,
      "outputs": [
        {
          "name": "stdout",
          "text": "(5,)\n",
          "output_type": "stream"
        }
      ]
    },
    {
      "cell_type": "code",
      "source": "print(a.T)     ## a'nın devriği olan transpose(T) yazdırmak ise a ile aynı.",
      "metadata": {
        "trusted": true
      },
      "execution_count": 3,
      "outputs": [
        {
          "name": "stdout",
          "text": "[-2.32029188  0.64329439  0.29246949 -1.10727299 -1.28172435]\n",
          "output_type": "stream"
        }
      ]
    },
    {
      "cell_type": "code",
      "source": "print(np.dot(a,a.T))  ##a ve a'nın devriğinin skaler çarpımı(dış çarpım) matris beklenirken tek bir sayı olabilir",
      "metadata": {
        "trusted": true
      },
      "execution_count": 5,
      "outputs": [
        {
          "name": "stdout",
          "text": "8.751991290332041\n",
          "output_type": "stream"
        }
      ]
    },
    {
      "cell_type": "code",
      "source": "a = np.random.randn(5,1)  ##tanım a'yı (5,1) boyutunda bir sütun vektörü yapar.Eğer nöral ağlarda çalışmak istiyorsak.\nprint(a)",
      "metadata": {
        "trusted": true
      },
      "execution_count": 6,
      "outputs": [
        {
          "name": "stdout",
          "text": "[[-1.20566544]\n [ 0.37715969]\n [-1.27447133]\n [ 0.995033  ]\n [ 0.33481981]]\n",
          "output_type": "stream"
        }
      ]
    },
    {
      "cell_type": "code",
      "source": "print(a.T)   ##şimdi bir satır vektörü oldu ",
      "metadata": {
        "trusted": true
      },
      "execution_count": 7,
      "outputs": [
        {
          "name": "stdout",
          "text": "[[-1.20566544  0.37715969 -1.27447133  0.995033    0.33481981]]\n",
          "output_type": "stream"
        }
      ]
    },
    {
      "cell_type": "code",
      "source": "print(np.dot(a,a.T))  ## asıl şimdi vektörün skaler çarpımı bize matrisi verdi.",
      "metadata": {
        "trusted": true
      },
      "execution_count": 8,
      "outputs": [
        {
          "name": "stdout",
          "text": "[[ 1.45362914 -0.4547284   1.53658603 -1.1996769  -0.40368067]\n [-0.4547284   0.14224943 -0.48067921  0.37528634  0.12628054]\n [ 1.53658603 -0.48067921  1.62427717 -1.26814103 -0.42671825]\n [-1.1996769   0.37528634 -1.26814103  0.99009067  0.33315676]\n [-0.40368067  0.12628054 -0.42671825  0.33315676  0.11210431]]\n",
          "output_type": "stream"
        }
      ]
    },
    {
      "cell_type": "code",
      "source": "assert(a.shape == (5,1))",
      "metadata": {
        "trusted": true
      },
      "execution_count": 12,
      "outputs": []
    },
    {
      "cell_type": "code",
      "source": "",
      "metadata": {},
      "execution_count": null,
      "outputs": []
    }
  ]
}